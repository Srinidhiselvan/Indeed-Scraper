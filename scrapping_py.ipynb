{
  "nbformat": 4,
  "nbformat_minor": 0,
  "metadata": {
    "colab": {
      "provenance": [],
      "mount_file_id": "1U0HsgiW-9X6MmilEqEmUnCwu_PrJ__pP",
      "authorship_tag": "ABX9TyMcVx2VpgpMuLvSE7YSQuOU",
      "include_colab_link": true
    },
    "kernelspec": {
      "name": "python3",
      "display_name": "Python 3"
    },
    "language_info": {
      "name": "python"
    }
  },
  "cells": [
    {
      "cell_type": "markdown",
      "metadata": {
        "id": "view-in-github",
        "colab_type": "text"
      },
      "source": [
        "<a href=\"https://colab.research.google.com/github/Srinidhiselvan/Indeed-Scraper/blob/main/scrapping_py.ipynb\" target=\"_parent\"><img src=\"https://colab.research.google.com/assets/colab-badge.svg\" alt=\"Open In Colab\"/></a>"
      ]
    },
    {
      "cell_type": "code",
      "execution_count": null,
      "metadata": {
        "colab": {
          "base_uri": "https://localhost:8080/"
        },
        "id": "ikdm-FJOKz1a",
        "outputId": "b2a4c61f-9623-432a-c56f-6389c5f907b0"
      },
      "outputs": [
        {
          "output_type": "stream",
          "name": "stdout",
          "text": [
            "Requirement already satisfied: Apify in /usr/local/lib/python3.10/dist-packages (2.0.2)\n",
            "Requirement already satisfied: apify-client>=1.8.1 in /usr/local/lib/python3.10/dist-packages (from Apify) (1.8.1)\n",
            "Requirement already satisfied: apify-shared>=1.1.2 in /usr/local/lib/python3.10/dist-packages (from Apify) (1.1.2)\n",
            "Requirement already satisfied: crawlee>=0.3.9 in /usr/local/lib/python3.10/dist-packages (from Apify) (0.4.3)\n",
            "Requirement already satisfied: cryptography>=42.0.0 in /usr/local/lib/python3.10/dist-packages (from Apify) (43.0.3)\n",
            "Requirement already satisfied: httpx>=0.27.0 in /usr/local/lib/python3.10/dist-packages (from Apify) (0.27.2)\n",
            "Requirement already satisfied: lazy-object-proxy>=1.10.0 in /usr/local/lib/python3.10/dist-packages (from Apify) (1.10.0)\n",
            "Requirement already satisfied: typing-extensions>=4.1.0 in /usr/local/lib/python3.10/dist-packages (from Apify) (4.12.2)\n",
            "Requirement already satisfied: websockets<14.0.0,>=10.0 in /usr/local/lib/python3.10/dist-packages (from Apify) (13.1)\n",
            "Requirement already satisfied: more_itertools>=10.0.0 in /usr/local/lib/python3.10/dist-packages (from apify-client>=1.8.1->Apify) (10.5.0)\n",
            "Requirement already satisfied: colorama>=0.4.0 in /usr/local/lib/python3.10/dist-packages (from crawlee>=0.3.9->Apify) (0.4.6)\n",
            "Requirement already satisfied: cookiecutter>=2.6.0 in /usr/local/lib/python3.10/dist-packages (from crawlee>=0.3.9->Apify) (2.6.0)\n",
            "Requirement already satisfied: docutils>=0.21.0 in /usr/local/lib/python3.10/dist-packages (from crawlee>=0.3.9->Apify) (0.21.2)\n",
            "Requirement already satisfied: eval-type-backport>=0.2.0 in /usr/local/lib/python3.10/dist-packages (from crawlee>=0.3.9->Apify) (0.2.0)\n",
            "Requirement already satisfied: inquirer>=3.3.0 in /usr/local/lib/python3.10/dist-packages (from crawlee>=0.3.9->Apify) (3.4.0)\n",
            "Requirement already satisfied: psutil>=6.0.0 in /usr/local/lib/python3.10/dist-packages (from crawlee>=0.3.9->Apify) (6.1.0)\n",
            "Requirement already satisfied: pydantic<2.10.0,>=2.6.0 in /usr/local/lib/python3.10/dist-packages (from crawlee>=0.3.9->Apify) (2.9.2)\n",
            "Requirement already satisfied: pydantic-settings>=2.2.0 in /usr/local/lib/python3.10/dist-packages (from crawlee>=0.3.9->Apify) (2.6.1)\n",
            "Requirement already satisfied: pyee>=9.0.0 in /usr/local/lib/python3.10/dist-packages (from crawlee>=0.3.9->Apify) (12.1.1)\n",
            "Requirement already satisfied: python-dateutil>=2.9.0 in /usr/local/lib/python3.10/dist-packages (from crawlee>=0.3.9->Apify) (2.9.0.post0)\n",
            "Requirement already satisfied: sortedcollections>=2.1.0 in /usr/local/lib/python3.10/dist-packages (from crawlee>=0.3.9->Apify) (2.1.0)\n",
            "Requirement already satisfied: tldextract>=5.1.0 in /usr/local/lib/python3.10/dist-packages (from crawlee>=0.3.9->Apify) (5.1.3)\n",
            "Requirement already satisfied: typer>=0.12.0 in /usr/local/lib/python3.10/dist-packages (from crawlee>=0.3.9->Apify) (0.13.0)\n",
            "Requirement already satisfied: cffi>=1.12 in /usr/local/lib/python3.10/dist-packages (from cryptography>=42.0.0->Apify) (1.17.1)\n",
            "Requirement already satisfied: anyio in /usr/local/lib/python3.10/dist-packages (from httpx>=0.27.0->Apify) (3.7.1)\n",
            "Requirement already satisfied: certifi in /usr/local/lib/python3.10/dist-packages (from httpx>=0.27.0->Apify) (2024.8.30)\n",
            "Requirement already satisfied: httpcore==1.* in /usr/local/lib/python3.10/dist-packages (from httpx>=0.27.0->Apify) (1.0.7)\n",
            "Requirement already satisfied: idna in /usr/local/lib/python3.10/dist-packages (from httpx>=0.27.0->Apify) (3.10)\n",
            "Requirement already satisfied: sniffio in /usr/local/lib/python3.10/dist-packages (from httpx>=0.27.0->Apify) (1.3.1)\n",
            "Requirement already satisfied: h11<0.15,>=0.13 in /usr/local/lib/python3.10/dist-packages (from httpcore==1.*->httpx>=0.27.0->Apify) (0.14.0)\n",
            "Requirement already satisfied: pycparser in /usr/local/lib/python3.10/dist-packages (from cffi>=1.12->cryptography>=42.0.0->Apify) (2.22)\n",
            "Requirement already satisfied: binaryornot>=0.4.4 in /usr/local/lib/python3.10/dist-packages (from cookiecutter>=2.6.0->crawlee>=0.3.9->Apify) (0.4.4)\n",
            "Requirement already satisfied: Jinja2<4.0.0,>=2.7 in /usr/local/lib/python3.10/dist-packages (from cookiecutter>=2.6.0->crawlee>=0.3.9->Apify) (3.1.4)\n",
            "Requirement already satisfied: click<9.0.0,>=7.0 in /usr/local/lib/python3.10/dist-packages (from cookiecutter>=2.6.0->crawlee>=0.3.9->Apify) (8.1.7)\n",
            "Requirement already satisfied: pyyaml>=5.3.1 in /usr/local/lib/python3.10/dist-packages (from cookiecutter>=2.6.0->crawlee>=0.3.9->Apify) (6.0.2)\n",
            "Requirement already satisfied: python-slugify>=4.0.0 in /usr/local/lib/python3.10/dist-packages (from cookiecutter>=2.6.0->crawlee>=0.3.9->Apify) (8.0.4)\n",
            "Requirement already satisfied: requests>=2.23.0 in /usr/local/lib/python3.10/dist-packages (from cookiecutter>=2.6.0->crawlee>=0.3.9->Apify) (2.32.3)\n",
            "Requirement already satisfied: arrow in /usr/local/lib/python3.10/dist-packages (from cookiecutter>=2.6.0->crawlee>=0.3.9->Apify) (1.3.0)\n",
            "Requirement already satisfied: rich in /usr/local/lib/python3.10/dist-packages (from cookiecutter>=2.6.0->crawlee>=0.3.9->Apify) (13.9.4)\n",
            "Requirement already satisfied: h2<5,>=3 in /usr/local/lib/python3.10/dist-packages (from httpx[brotli,http2]>=0.27.0->crawlee>=0.3.9->Apify) (4.1.0)\n",
            "Requirement already satisfied: brotli in /usr/local/lib/python3.10/dist-packages (from httpx[brotli,http2]>=0.27.0->crawlee>=0.3.9->Apify) (1.1.0)\n",
            "Requirement already satisfied: blessed>=1.19.0 in /usr/local/lib/python3.10/dist-packages (from inquirer>=3.3.0->crawlee>=0.3.9->Apify) (1.20.0)\n",
            "Requirement already satisfied: editor>=1.6.0 in /usr/local/lib/python3.10/dist-packages (from inquirer>=3.3.0->crawlee>=0.3.9->Apify) (1.6.6)\n",
            "Requirement already satisfied: readchar>=4.2.0 in /usr/local/lib/python3.10/dist-packages (from inquirer>=3.3.0->crawlee>=0.3.9->Apify) (4.2.1)\n",
            "Requirement already satisfied: annotated-types>=0.6.0 in /usr/local/lib/python3.10/dist-packages (from pydantic<2.10.0,>=2.6.0->crawlee>=0.3.9->Apify) (0.7.0)\n",
            "Requirement already satisfied: pydantic-core==2.23.4 in /usr/local/lib/python3.10/dist-packages (from pydantic<2.10.0,>=2.6.0->crawlee>=0.3.9->Apify) (2.23.4)\n",
            "Requirement already satisfied: python-dotenv>=0.21.0 in /usr/local/lib/python3.10/dist-packages (from pydantic-settings>=2.2.0->crawlee>=0.3.9->Apify) (1.0.1)\n",
            "Requirement already satisfied: six>=1.5 in /usr/local/lib/python3.10/dist-packages (from python-dateutil>=2.9.0->crawlee>=0.3.9->Apify) (1.16.0)\n",
            "Requirement already satisfied: sortedcontainers in /usr/local/lib/python3.10/dist-packages (from sortedcollections>=2.1.0->crawlee>=0.3.9->Apify) (2.4.0)\n",
            "Requirement already satisfied: requests-file>=1.4 in /usr/local/lib/python3.10/dist-packages (from tldextract>=5.1.0->crawlee>=0.3.9->Apify) (2.1.0)\n",
            "Requirement already satisfied: filelock>=3.0.8 in /usr/local/lib/python3.10/dist-packages (from tldextract>=5.1.0->crawlee>=0.3.9->Apify) (3.16.1)\n",
            "Requirement already satisfied: shellingham>=1.3.0 in /usr/local/lib/python3.10/dist-packages (from typer>=0.12.0->crawlee>=0.3.9->Apify) (1.5.4)\n",
            "Requirement already satisfied: exceptiongroup in /usr/local/lib/python3.10/dist-packages (from anyio->httpx>=0.27.0->Apify) (1.2.2)\n",
            "Requirement already satisfied: chardet>=3.0.2 in /usr/local/lib/python3.10/dist-packages (from binaryornot>=0.4.4->cookiecutter>=2.6.0->crawlee>=0.3.9->Apify) (5.2.0)\n",
            "Requirement already satisfied: wcwidth>=0.1.4 in /usr/local/lib/python3.10/dist-packages (from blessed>=1.19.0->inquirer>=3.3.0->crawlee>=0.3.9->Apify) (0.2.13)\n",
            "Requirement already satisfied: runs in /usr/local/lib/python3.10/dist-packages (from editor>=1.6.0->inquirer>=3.3.0->crawlee>=0.3.9->Apify) (1.2.2)\n",
            "Requirement already satisfied: xmod in /usr/local/lib/python3.10/dist-packages (from editor>=1.6.0->inquirer>=3.3.0->crawlee>=0.3.9->Apify) (1.8.1)\n",
            "Requirement already satisfied: hyperframe<7,>=6.0 in /usr/local/lib/python3.10/dist-packages (from h2<5,>=3->httpx[brotli,http2]>=0.27.0->crawlee>=0.3.9->Apify) (6.0.1)\n",
            "Requirement already satisfied: hpack<5,>=4.0 in /usr/local/lib/python3.10/dist-packages (from h2<5,>=3->httpx[brotli,http2]>=0.27.0->crawlee>=0.3.9->Apify) (4.0.0)\n",
            "Requirement already satisfied: MarkupSafe>=2.0 in /usr/local/lib/python3.10/dist-packages (from Jinja2<4.0.0,>=2.7->cookiecutter>=2.6.0->crawlee>=0.3.9->Apify) (3.0.2)\n",
            "Requirement already satisfied: text-unidecode>=1.3 in /usr/local/lib/python3.10/dist-packages (from python-slugify>=4.0.0->cookiecutter>=2.6.0->crawlee>=0.3.9->Apify) (1.3)\n",
            "Requirement already satisfied: charset-normalizer<4,>=2 in /usr/local/lib/python3.10/dist-packages (from requests>=2.23.0->cookiecutter>=2.6.0->crawlee>=0.3.9->Apify) (3.4.0)\n",
            "Requirement already satisfied: urllib3<3,>=1.21.1 in /usr/local/lib/python3.10/dist-packages (from requests>=2.23.0->cookiecutter>=2.6.0->crawlee>=0.3.9->Apify) (2.2.3)\n",
            "Requirement already satisfied: markdown-it-py>=2.2.0 in /usr/local/lib/python3.10/dist-packages (from rich->cookiecutter>=2.6.0->crawlee>=0.3.9->Apify) (3.0.0)\n",
            "Requirement already satisfied: pygments<3.0.0,>=2.13.0 in /usr/local/lib/python3.10/dist-packages (from rich->cookiecutter>=2.6.0->crawlee>=0.3.9->Apify) (2.18.0)\n",
            "Requirement already satisfied: types-python-dateutil>=2.8.10 in /usr/local/lib/python3.10/dist-packages (from arrow->cookiecutter>=2.6.0->crawlee>=0.3.9->Apify) (2.9.0.20241003)\n",
            "Requirement already satisfied: mdurl~=0.1 in /usr/local/lib/python3.10/dist-packages (from markdown-it-py>=2.2.0->rich->cookiecutter>=2.6.0->crawlee>=0.3.9->Apify) (0.1.2)\n",
            "ERROR: unknown command \"install pandas\" - maybe you meant \"install\"\n",
            "Results saved to apify_results.xlsx\n"
          ]
        }
      ],
      "source": [
        "!pip install Apify\n",
        "!pip install pandas\n",
        "from apify_client import ApifyClient\n",
        "import pandas as pd\n",
        "\n",
        "# Initialize the ApifyClient with your API token\n",
        "client = ApifyClient(\"apify_api_64pvViPXrIe94mAlbhrueRBAWj0rCP0U6Gst\")\n",
        "\n",
        "# Prepare the Actor input\n",
        "run_input = {\n",
        "    \"position\": \"web developer\",\n",
        "    \"country\": \"US\",\n",
        "    \"location\": \"San Francisco\",\n",
        "    \"maxItems\": 50,\n",
        "    \"parseCompanyDetails\": False,\n",
        "    \"saveOnlyUniqueItems\": True,\n",
        "    \"followApplyRedirects\": False,\n",
        "}\n",
        "\n",
        "# Run the Actor and wait for it to finish\n",
        "run = client.actor(\"hMvNSpz3JnHgl5jkh\").call(run_input=run_input)\n",
        "\n",
        "# Fetch Actor results and save them into a list\n",
        "results = [item for item in client.dataset(run[\"defaultDatasetId\"]).iterate_items()]\n",
        "\n",
        "# Convert results to a DataFrame\n",
        "df = pd.DataFrame(results)\n",
        "\n",
        "# Save DataFrame to an Excel file\n",
        "df.to_excel(\"apify_results.xlsx\", index=False)\n",
        "\n",
        "print(\"Results saved to apify_results.xlsx\")\n"
      ]
    },
    {
      "cell_type": "markdown",
      "source": [],
      "metadata": {
        "id": "tT_uuP4eHc88"
      }
    },
    {
      "cell_type": "code",
      "source": [
        "from google.colab import drive\n",
        "drive.mount('/content/drive')"
      ],
      "metadata": {
        "id": "EtFNUoMTGkms"
      },
      "execution_count": null,
      "outputs": []
    }
  ]
}